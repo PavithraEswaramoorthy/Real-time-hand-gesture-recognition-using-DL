{
  "nbformat": 4,
  "nbformat_minor": 0,
  "metadata": {
    "colab": {
      "provenance": [],
      "authorship_tag": "ABX9TyONg+EMD/+IkeYXmj1nnUbc",
      "include_colab_link": true
    },
    "kernelspec": {
      "name": "python3",
      "display_name": "Python 3"
    },
    "language_info": {
      "name": "python"
    }
  },
  "cells": [
    {
      "cell_type": "markdown",
      "metadata": {
        "id": "view-in-github",
        "colab_type": "text"
      },
      "source": [
        "<a href=\"https://colab.research.google.com/github/PavithraEswaramoorthy/Real-time-hand-gesture-recognition-using-DL/blob/main/DL_MINI_PROJECT.ipynb\" target=\"_parent\"><img src=\"https://colab.research.google.com/assets/colab-badge.svg\" alt=\"Open In Colab\"/></a>"
      ]
    },
    {
      "cell_type": "code",
      "execution_count": null,
      "metadata": {
        "id": "LIAuaqbsqic7"
      },
      "outputs": [],
      "source": [
        "\n",
        "import tensorflow as tf\n",
        "from tensorflow.keras import layers, models\n",
        "from sklearn.model_selection import train_test_split\n",
        "import numpy as np"
      ]
    },
    {
      "cell_type": "code",
      "source": [
        "!pip install -q opendatasets\n",
        "import opendatasets as od"
      ],
      "metadata": {
        "id": "4ClhLcv6sCJ0"
      },
      "execution_count": null,
      "outputs": []
    },
    {
      "cell_type": "code",
      "source": [
        "od.download(\"https://www.kaggle.com/datasets/ash2703/handsignimages\")"
      ],
      "metadata": {
        "colab": {
          "base_uri": "https://localhost:8080/"
        },
        "id": "KJMpP9Jws4ON",
        "outputId": "74a7556e-7e3e-4ad0-c174-fe26fbd92ba8"
      },
      "execution_count": null,
      "outputs": [
        {
          "output_type": "stream",
          "name": "stdout",
          "text": [
            "Please provide your Kaggle credentials to download this dataset. Learn more: http://bit.ly/kaggle-creds\n",
            "Your Kaggle username: pavithrae21alr030\n",
            "Your Kaggle Key: ··········\n",
            "Downloading handsignimages.zip to ./handsignimages\n"
          ]
        },
        {
          "output_type": "stream",
          "name": "stderr",
          "text": [
            "100%|██████████| 23.1M/23.1M [00:00<00:00, 47.2MB/s]\n"
          ]
        },
        {
          "output_type": "stream",
          "name": "stdout",
          "text": [
            "\n"
          ]
        }
      ]
    },
    {
      "cell_type": "code",
      "source": [
        "train_directory='/content/handsignimages/Train'\n",
        "test_directory='/content/handsignimages/Test'"
      ],
      "metadata": {
        "id": "gwkOTDZgt9Nl"
      },
      "execution_count": null,
      "outputs": []
    },
    {
      "cell_type": "code",
      "source": [
        "from keras.preprocessing.image import ImageDataGenerator\n",
        "train_datagen=ImageDataGenerator(rescale=1./255)\n",
        "test_datagen=ImageDataGenerator(rescale=1./255)"
      ],
      "metadata": {
        "id": "O71-PrV0xAv6"
      },
      "execution_count": null,
      "outputs": []
    },
    {
      "cell_type": "code",
      "source": [
        "train_generator=train_datagen.flow_from_directory(\n",
        "train_directory,\n",
        "target_size=(28,28),\n",
        "    batch_size=32,\n",
        "    class_mode='categorical'\n",
        ")\n",
        "test_generator=test_datagen.flow_from_directory(\n",
        "test_directory,\n",
        "target_size=(28,28),\n",
        "    batch_size=32,\n",
        "    class_mode='categorical'\n",
        ")"
      ],
      "metadata": {
        "colab": {
          "base_uri": "https://localhost:8080/"
        },
        "id": "_Px-EN0vxDg_",
        "outputId": "9236fd64-dd6d-49ae-84a7-e2a8e68ee59d"
      },
      "execution_count": null,
      "outputs": [
        {
          "output_type": "stream",
          "name": "stdout",
          "text": [
            "Found 27455 images belonging to 24 classes.\n",
            "Found 7172 images belonging to 24 classes.\n"
          ]
        }
      ]
    },
    {
      "cell_type": "code",
      "source": [
        "from tensorflow.keras.models import Sequential\n",
        "from tensorflow.keras.layers import Conv2D, MaxPooling2D, Flatten, Dense, Dropout"
      ],
      "metadata": {
        "id": "1GuVdSvMxT7N"
      },
      "execution_count": null,
      "outputs": []
    },
    {
      "cell_type": "code",
      "source": [
        "model = Sequential()"
      ],
      "metadata": {
        "id": "6tO7kq80xqX1"
      },
      "execution_count": null,
      "outputs": []
    },
    {
      "cell_type": "code",
      "source": [
        "model.add(Conv2D(32, (3, 3), activation='relu', input_shape=(28, 28, 3)))\n",
        "model.add(MaxPooling2D((2, 2)))\n",
        "model.add(Conv2D(64, (3, 3), activation='relu'))\n",
        "model.add(MaxPooling2D((2, 2)))"
      ],
      "metadata": {
        "id": "r-q9Ky_Jxti5"
      },
      "execution_count": null,
      "outputs": []
    },
    {
      "cell_type": "code",
      "source": [
        "model.add(Flatten())"
      ],
      "metadata": {
        "id": "ttPPNiGXx3ZF"
      },
      "execution_count": null,
      "outputs": []
    },
    {
      "cell_type": "code",
      "source": [
        "model.add(Dense(128, activation='relu'))\n",
        "model.add(Dropout(0.5))\n",
        "model.add(Dense(24, activation='softmax'))"
      ],
      "metadata": {
        "id": "ukAT4vyfx4nd"
      },
      "execution_count": null,
      "outputs": []
    },
    {
      "cell_type": "code",
      "source": [
        "model.compile(optimizer='adam', loss='categorical_crossentropy', metrics=['accuracy'])\n"
      ],
      "metadata": {
        "id": "DLV0-WpZyD3d"
      },
      "execution_count": null,
      "outputs": []
    },
    {
      "cell_type": "code",
      "source": [
        "history=model.fit(train_generator,epochs=25,validation_data=test_generator)"
      ],
      "metadata": {
        "colab": {
          "base_uri": "https://localhost:8080/"
        },
        "id": "jLEX-XmbyI2P",
        "outputId": "851c9ed3-d7ba-4c52-d8ee-39e912328a5c"
      },
      "execution_count": null,
      "outputs": [
        {
          "output_type": "stream",
          "name": "stdout",
          "text": [
            "Epoch 1/25\n",
            "858/858 [==============================] - 39s 45ms/step - loss: 1.3756 - accuracy: 0.5651 - val_loss: 0.5223 - val_accuracy: 0.8320\n",
            "Epoch 2/25\n",
            "858/858 [==============================] - 36s 42ms/step - loss: 0.3784 - accuracy: 0.8678 - val_loss: 0.3045 - val_accuracy: 0.8999\n",
            "Epoch 3/25\n",
            "858/858 [==============================] - 35s 40ms/step - loss: 0.2046 - accuracy: 0.9274 - val_loss: 0.3263 - val_accuracy: 0.8925\n",
            "Epoch 4/25\n",
            "858/858 [==============================] - 38s 44ms/step - loss: 0.1449 - accuracy: 0.9490 - val_loss: 0.3139 - val_accuracy: 0.9190\n",
            "Epoch 5/25\n",
            "858/858 [==============================] - 37s 43ms/step - loss: 0.1118 - accuracy: 0.9595 - val_loss: 0.3567 - val_accuracy: 0.9035\n",
            "Epoch 6/25\n",
            "858/858 [==============================] - 36s 42ms/step - loss: 0.0929 - accuracy: 0.9652 - val_loss: 0.3558 - val_accuracy: 0.9142\n",
            "Epoch 7/25\n",
            "858/858 [==============================] - 37s 43ms/step - loss: 0.0803 - accuracy: 0.9714 - val_loss: 0.2703 - val_accuracy: 0.9325\n",
            "Epoch 8/25\n",
            "858/858 [==============================] - 36s 42ms/step - loss: 0.0742 - accuracy: 0.9724 - val_loss: 0.3080 - val_accuracy: 0.9292\n",
            "Epoch 9/25\n",
            "858/858 [==============================] - 35s 41ms/step - loss: 0.0648 - accuracy: 0.9765 - val_loss: 0.3551 - val_accuracy: 0.9301\n",
            "Epoch 10/25\n",
            "858/858 [==============================] - 36s 42ms/step - loss: 0.0603 - accuracy: 0.9780 - val_loss: 0.3243 - val_accuracy: 0.9356\n",
            "Epoch 11/25\n",
            "858/858 [==============================] - 36s 42ms/step - loss: 0.0491 - accuracy: 0.9825 - val_loss: 0.3393 - val_accuracy: 0.9265\n",
            "Epoch 12/25\n",
            "858/858 [==============================] - 35s 41ms/step - loss: 0.0462 - accuracy: 0.9828 - val_loss: 0.4033 - val_accuracy: 0.9349\n",
            "Epoch 13/25\n",
            "858/858 [==============================] - 37s 43ms/step - loss: 0.0435 - accuracy: 0.9843 - val_loss: 0.3426 - val_accuracy: 0.9285\n",
            "Epoch 14/25\n",
            "858/858 [==============================] - 37s 43ms/step - loss: 0.0423 - accuracy: 0.9840 - val_loss: 0.3605 - val_accuracy: 0.9356\n",
            "Epoch 15/25\n",
            "858/858 [==============================] - 38s 44ms/step - loss: 0.0390 - accuracy: 0.9855 - val_loss: 0.4184 - val_accuracy: 0.9308\n",
            "Epoch 16/25\n",
            "858/858 [==============================] - 39s 45ms/step - loss: 0.0366 - accuracy: 0.9867 - val_loss: 0.4212 - val_accuracy: 0.9307\n",
            "Epoch 17/25\n",
            "858/858 [==============================] - 37s 43ms/step - loss: 0.0329 - accuracy: 0.9879 - val_loss: 0.4354 - val_accuracy: 0.9375\n",
            "Epoch 18/25\n",
            "858/858 [==============================] - 34s 40ms/step - loss: 0.0340 - accuracy: 0.9871 - val_loss: 0.4102 - val_accuracy: 0.9332\n",
            "Epoch 19/25\n",
            "858/858 [==============================] - 36s 42ms/step - loss: 0.0278 - accuracy: 0.9899 - val_loss: 0.4997 - val_accuracy: 0.9377\n",
            "Epoch 20/25\n",
            "858/858 [==============================] - 36s 42ms/step - loss: 0.0283 - accuracy: 0.9897 - val_loss: 0.4085 - val_accuracy: 0.9403\n",
            "Epoch 21/25\n",
            "858/858 [==============================] - 36s 42ms/step - loss: 0.0241 - accuracy: 0.9909 - val_loss: 0.4095 - val_accuracy: 0.9331\n",
            "Epoch 22/25\n",
            "858/858 [==============================] - 37s 43ms/step - loss: 0.0244 - accuracy: 0.9913 - val_loss: 0.4060 - val_accuracy: 0.9426\n",
            "Epoch 23/25\n",
            "858/858 [==============================] - 35s 41ms/step - loss: 0.0263 - accuracy: 0.9907 - val_loss: 0.3905 - val_accuracy: 0.9388\n",
            "Epoch 24/25\n",
            "858/858 [==============================] - 37s 44ms/step - loss: 0.0268 - accuracy: 0.9904 - val_loss: 0.3433 - val_accuracy: 0.9446\n",
            "Epoch 25/25\n",
            "858/858 [==============================] - 35s 41ms/step - loss: 0.0247 - accuracy: 0.9902 - val_loss: 0.4558 - val_accuracy: 0.9391\n"
          ]
        }
      ]
    },
    {
      "cell_type": "code",
      "source": [
        "train_accuracy = history.history['accuracy'][-1]\n",
        "print(train_accuracy)"
      ],
      "metadata": {
        "colab": {
          "base_uri": "https://localhost:8080/"
        },
        "id": "OkfRapPF0yAn",
        "outputId": "2d8c98d7-94a7-4a5e-de88-fb032d23ed8e"
      },
      "execution_count": null,
      "outputs": [
        {
          "output_type": "stream",
          "name": "stdout",
          "text": [
            "0.9902385473251343\n"
          ]
        }
      ]
    },
    {
      "cell_type": "code",
      "source": [
        "evaluation = model.evaluate(test_generator, steps=len(test_generator))\n",
        "test_loss, test_accuracy = evaluation\n",
        "print(f'Test loss: {test_loss}')\n",
        "print(f'Test accuracy: {test_accuracy}')"
      ],
      "metadata": {
        "colab": {
          "base_uri": "https://localhost:8080/"
        },
        "id": "dTlH7PFq8I6J",
        "outputId": "85d7c684-b481-4645-e628-b74980f42318"
      },
      "execution_count": null,
      "outputs": [
        {
          "output_type": "stream",
          "name": "stdout",
          "text": [
            "225/225 [==============================] - 4s 16ms/step - loss: 0.4558 - accuracy: 0.9391\n",
            "Test loss: 0.45575499534606934\n",
            "Test accuracy: 0.939068615436554\n"
          ]
        }
      ]
    },
    {
      "cell_type": "code",
      "source": [
        "y_test=test_generator.classes"
      ],
      "metadata": {
        "id": "Fw-AMsYt8SCs"
      },
      "execution_count": null,
      "outputs": []
    },
    {
      "cell_type": "code",
      "source": [
        "import matplotlib.pyplot as plt\n",
        "individual_test_image = test_generator[0][0][4]\n",
        "individual_test_label = test_generator[0][1][4]\n",
        "\n",
        "\n",
        "plt.imshow(individual_test_image, cmap=\"viridis\")\n",
        "plt.show()\n",
        "\n",
        "prediction = model.predict(np.expand_dims(individual_test_image, axis=0)).argmax(axis=1)\n",
        "print(\"Predicted class:\", prediction)\n",
        "print(\"True class:\", individual_test_label.argmax())"
      ],
      "metadata": {
        "colab": {
          "base_uri": "https://localhost:8080/",
          "height": 482
        },
        "id": "uClRxw_U8dgZ",
        "outputId": "4d2c5d32-6645-46df-a006-68147ca0ad20"
      },
      "execution_count": null,
      "outputs": [
        {
          "output_type": "display_data",
          "data": {
            "text/plain": [
              "<Figure size 640x480 with 1 Axes>"
            ],
            "image/png": "[encoded data removed]"
          },
          "metadata": {}
        },
        {
          "output_type": "stream",
          "name": "stdout",
          "text": [
            "1/1 [==============================] - 0s 105ms/step\n",
            "Predicted class: [23]\n",
            "True class: 23\n"
          ]
        }
      ]
    },
    {
      "cell_type": "code",
      "source": [
        "import matplotlib.pyplot as plt\n",
        "plt.imshow(individual_test_image, interpolation='bicubic')\n",
        "plt.show()"
      ],
      "metadata": {
        "colab": {
          "base_uri": "https://localhost:8080/",
          "height": 430
        },
        "id": "SXhi4lFb9MU5",
        "outputId": "a83f98f7-6de9-4f36-c78b-9fc84411e66d"
      },
      "execution_count": null,
      "outputs": [
        {
          "output_type": "display_data",
          "data": {
            "text/plain": [
              "<Figure size 640x480 with 1 Axes>"
            ],
            "image/png": "[encoded data removed]"
          },
          "metadata": {}
        }
      ]
    },
    {
      "cell_type": "code",
      "source": [
        "model.save('recognition')"
      ],
      "metadata": {
        "id": "MEigMVJ8UiOF"
      },
      "execution_count": null,
      "outputs": []
    },
    {
      "cell_type": "code",
      "source": [
        "pip install opencv-python\n"
      ],
      "metadata": {
        "colab": {
          "base_uri": "https://localhost:8080/"
        },
        "id": "y4ugAMe9VCVO",
        "outputId": "7de02720-7569-4bb5-d8f2-0fea7be3b1df"
      },
      "execution_count": null,
      "outputs": [
        {
          "output_type": "stream",
          "name": "stdout",
          "text": [
            "Requirement already satisfied: opencv-python in /usr/local/lib/python3.10/dist-packages (4.8.0.76)\n",
            "Requirement already satisfied: numpy>=1.21.2 in /usr/local/lib/python3.10/dist-packages (from opencv-python) (1.23.5)\n"
          ]
        }
      ]
    },
    {
      "cell_type": "code",
      "source": [
        "pip install opencv-contrib-python"
      ],
      "metadata": {
        "colab": {
          "base_uri": "https://localhost:8080/"
        },
        "id": "TqsxBhKxVLvO",
        "outputId": "b5cb6578-79bf-42ff-80f4-69ee082c3aaa"
      },
      "execution_count": null,
      "outputs": [
        {
          "output_type": "stream",
          "name": "stdout",
          "text": [
            "Requirement already satisfied: opencv-contrib-python in /usr/local/lib/python3.10/dist-packages (4.8.0.76)\n",
            "Requirement already satisfied: numpy>=1.21.2 in /usr/local/lib/python3.10/dist-packages (from opencv-contrib-python) (1.23.5)\n"
          ]
        }
      ]
    },
    {
      "cell_type": "code",
      "source": [
        "import cv2\n",
        "print(cv2.__version__)"
      ],
      "metadata": {
        "colab": {
          "base_uri": "https://localhost:8080/"
        },
        "id": "mZ6Qxes-VPnM",
        "outputId": "5826e30c-0b97-4d22-fffb-b9b2dd1ccff0"
      },
      "execution_count": null,
      "outputs": [
        {
          "output_type": "stream",
          "name": "stdout",
          "text": [
            "4.8.0\n"
          ]
        }
      ]
    },
    {
      "cell_type": "code",
      "source": [
        "import cv2\n",
        "import tensorflow as tf\n",
        "model = tf.keras.models.load_model('recognition')"
      ],
      "metadata": {
        "id": "XWoW4U9WVThf"
      },
      "execution_count": null,
      "outputs": []
    },
    {
      "cell_type": "code",
      "source": [
        "from IPython.display import display, Javascript\n",
        "from google.colab.output import eval_js\n",
        "from base64 import b64decode\n",
        "\n",
        "def take_photo(filename='photo.jpg', quality=0.8):\n",
        "  js = Javascript('''\n",
        "    async function takePhoto(quality) {\n",
        "      const div = document.createElement('div');\n",
        "      const capture = document.createElement('button');\n",
        "      capture.textContent = 'Capture';\n",
        "      div.appendChild(capture);\n",
        "\n",
        "      const video = document.createElement('video');\n",
        "      video.style.display = 'block';\n",
        "      const stream = await navigator.mediaDevices.getUserMedia({video: true});\n",
        "\n",
        "      document.body.appendChild(div);\n",
        "      div.appendChild(video);\n",
        "      video.srcObject = stream;\n",
        "      await video.play();\n",
        "\n",
        "      // Resize the output to fit the video element.\n",
        "      google.colab.output.setIframeHeight(document.documentElement.scrollHeight, true);\n",
        "\n",
        "      // Wait for Capture to be clicked.\n",
        "      await new Promise((resolve) => capture.onclick = resolve);\n",
        "\n",
        "      const canvas = document.createElement('canvas');\n",
        "      canvas.width = video.videoWidth;\n",
        "      canvas.height = video.videoHeight;\n",
        "      canvas.getContext('2d').drawImage(video, 0, 0);\n",
        "      stream.getVideoTracks()[0].stop();\n",
        "      div.remove();\n",
        "      return canvas.toDataURL('image/jpeg', quality);\n",
        "    }\n",
        "    ''')\n",
        "  display(js)\n",
        "  data = eval_js('takePhoto({})'.format(quality))\n",
        "  binary = b64decode(data.split(',')[1])\n",
        "  with open(filename, 'wb') as f:\n",
        "    f.write(binary)\n",
        "  return filename"
      ],
      "metadata": {
        "id": "29un-vLR4wxW"
      },
      "execution_count": null,
      "outputs": []
    },
    {
      "cell_type": "code",
      "source": [
        "from IPython.display import Image\n",
        "try:\n",
        "  filename = take_photo()\n",
        "  print('Saved to {}'.format(filename))\n",
        "\n",
        "  # Show the image which was just taken.\n",
        "  display(Image(filename))\n",
        "except Exception as err:\n",
        "  # Errors will be thrown if the user does not have a webcam or if they do not\n",
        "  # grant the page permission to access it.\n",
        "  print(str(err))"
      ],
      "metadata": {
        "colab": {
          "base_uri": "https://localhost:8080/",
          "height": 514
        },
        "id": "xVw9ufu_4voZ",
        "outputId": "839d187e-d4c4-4743-9b30-a0ace45bbb23"
      },
      "execution_count": null,
      "outputs": [
        {
          "output_type": "display_data",
          "data": {
            "text/plain": [
              "<IPython.core.display.Javascript object>"
            ],
            "application/javascript": [
              "\n",
              "    async function takePhoto(quality) {\n",
              "      const div = document.createElement('div');\n",
              "      const capture = document.createElement('button');\n",
              "      capture.textContent = 'Capture';\n",
              "      div.appendChild(capture);\n",
              "\n",
              "      const video = document.createElement('video');\n",
              "      video.style.display = 'block';\n",
              "      const stream = await navigator.mediaDevices.getUserMedia({video: true});\n",
              "\n",
              "      document.body.appendChild(div);\n",
              "      div.appendChild(video);\n",
              "      video.srcObject = stream;\n",
              "      await video.play();\n",
              "\n",
              "      // Resize the output to fit the video element.\n",
              "      google.colab.output.setIframeHeight(document.documentElement.scrollHeight, true);\n",
              "\n",
              "      // Wait for Capture to be clicked.\n",
              "      await new Promise((resolve) => capture.onclick = resolve);\n",
              "\n",
              "      const canvas = document.createElement('canvas');\n",
              "      canvas.width = video.videoWidth;\n",
              "      canvas.height = video.videoHeight;\n",
              "      canvas.getContext('2d').drawImage(video, 0, 0);\n",
              "      stream.getVideoTracks()[0].stop();\n",
              "      div.remove();\n",
              "      return canvas.toDataURL('image/jpeg', quality);\n",
              "    }\n",
              "    "
            ]
          },
          "metadata": {}
        },
        {
          "output_type": "stream",
          "name": "stdout",
          "text": [
            "Saved to photo.jpg\n"
          ]
        },
        {
          "output_type": "display_data",
          "data": {
            "image/jpeg": "[encoded data removed]",
            "text/plain": [
              "<IPython.core.display.Image object>"
            ]
          },
          "metadata": {}
        }
      ]
    },
    {
      "cell_type": "code",
      "source": [
        "image = cv2.imread('photo.jpg')\n",
        "image = cv2.cvtColor(image, cv2.COLOR_BGR2RGB)\n",
        "image = cv2.resize(image, (28,28))\n",
        "image = image / 255.0"
      ],
      "metadata": {
        "id": "K19WVbrX5QKF"
      },
      "execution_count": null,
      "outputs": []
    },
    {
      "cell_type": "code",
      "source": [
        "prediction = model.predict(np.expand_dims(image, axis=0))"
      ],
      "metadata": {
        "colab": {
          "base_uri": "https://localhost:8080/"
        },
        "id": "63QdzUb85omj",
        "outputId": "ac38bd64-9f40-4729-a4b7-a22cf30eb6a9"
      },
      "execution_count": null,
      "outputs": [
        {
          "output_type": "stream",
          "name": "stdout",
          "text": [
            "1/1 [==============================] - 0s 21ms/step\n"
          ]
        }
      ]
    },
    {
      "cell_type": "code",
      "source": [
        "predicted_class = prediction.argmax()"
      ],
      "metadata": {
        "id": "b0gZQMhN5vbX"
      },
      "execution_count": null,
      "outputs": []
    },
    {
      "cell_type": "code",
      "source": [
        "print(predicted_class)"
      ],
      "metadata": {
        "colab": {
          "base_uri": "https://localhost:8080/"
        },
        "id": "hEmKGlB75yk3",
        "outputId": "4be5327d-1617-4fe2-e574-9c89a8648e5f"
      },
      "execution_count": null,
      "outputs": [
        {
          "output_type": "stream",
          "name": "stdout",
          "text": [
            "23\n"
          ]
        }
      ]
    }
  ]
}